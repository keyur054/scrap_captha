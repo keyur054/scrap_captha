{
 "cells": [
  {
   "cell_type": "code",
   "execution_count": 4,
   "metadata": {},
   "outputs": [],
   "source": [
    "import requests\n",
    "import pandas as pd"
   ]
  },
  {
   "cell_type": "code",
   "execution_count": 16,
   "metadata": {},
   "outputs": [],
   "source": [
    "class OptionChain():\n",
    "    def __init__(self, symbol='NIFTY', timeout=5) -> None:\n",
    "        self.__url = \"https://www.nseindia.com/api/option-chain-indices?symbol={}\".format(symbol)\n",
    "        self.__session = requests.sessions.Session()\n",
    "        self.__session.headers = { \"User-Agent\": \"Mozilla/5.0 (X11; Ubuntu; Linux x86_64; rv:102.0) Gecko/20100101 Firefox/102.0\", \"Accept\": \"*/*\", \"Accept-Language\": \"en-US,en;q=0.5\" }\n",
    "        self.__timeout = timeout\n",
    "        self.__session.get(\"https://www.nseindia.com/option-chain\", timeout=self.__timeout)\n",
    "    \n",
    "    def fetch_data(self, expiry_date=None, starting_strike_price=None, number_of_rows=2):\n",
    "        try:\n",
    "            data = self.__session.get(url=self.__url, timeout=self.__timeout)\n",
    "            data = data.json()\n",
    "            df = pd.json_normalize(data['records']['data'])\n",
    "            \n",
    "            if expiry_date != None:\n",
    "                df = df[(df.expiryDate == expiry_date)]\n",
    "            \n",
    "            if starting_strike_price != None:\n",
    "                df = df[(df.strikePrice >= starting_strike_price)][:number_of_rows]\n",
    "\n",
    "            # for col in df.columns:\n",
    "            #      print(col)\n",
    "            arr_colmn = ['PE.strikePrice','PE.openInterest','PE.changeinOpenInterest','PE.impliedVolatility','CE.openInterest','CE.changeinOpenInterest','CE.impliedVolatility','CE.strikePrice']\n",
    "            new_df = df[arr_colmn]\n",
    "            return new_df.head()\n",
    "        except Exception as ex:\n",
    "            print('Error: {}'.format(ex))\n",
    "            self.__session.get(\"https://www.nseindia.com/option-chain\", timeout=self.__timeout)\n"
   ]
  },
  {
   "cell_type": "code",
   "execution_count": 17,
   "metadata": {},
   "outputs": [
    {
     "name": "stdout",
     "output_type": "stream",
     "text": [
      "strikePrice\n",
      "expiryDate\n",
      "PE.strikePrice\n",
      "PE.expiryDate\n",
      "PE.underlying\n",
      "PE.identifier\n",
      "PE.openInterest\n",
      "PE.changeinOpenInterest\n",
      "PE.pchangeinOpenInterest\n",
      "PE.totalTradedVolume\n",
      "PE.impliedVolatility\n",
      "PE.lastPrice\n",
      "PE.change\n",
      "PE.pChange\n",
      "PE.totalBuyQuantity\n",
      "PE.totalSellQuantity\n",
      "PE.bidQty\n",
      "PE.bidprice\n",
      "PE.askQty\n",
      "PE.askPrice\n",
      "PE.underlyingValue\n",
      "CE.strikePrice\n",
      "CE.expiryDate\n",
      "CE.underlying\n",
      "CE.identifier\n",
      "CE.openInterest\n",
      "CE.changeinOpenInterest\n",
      "CE.pchangeinOpenInterest\n",
      "CE.totalTradedVolume\n",
      "CE.impliedVolatility\n",
      "CE.lastPrice\n",
      "CE.change\n",
      "CE.pChange\n",
      "CE.totalBuyQuantity\n",
      "CE.totalSellQuantity\n",
      "CE.bidQty\n",
      "CE.bidprice\n",
      "CE.askQty\n",
      "CE.askPrice\n",
      "CE.underlyingValue\n",
      "None\n"
     ]
    }
   ],
   "source": [
    "if __name__ == '__main__':\n",
    "    oc = OptionChain()\n",
    "    print(oc.fetch_data(expiry_date='28-Sep-2023'))"
   ]
  }
 ],
 "metadata": {
  "kernelspec": {
   "display_name": "Python 3",
   "language": "python",
   "name": "python3"
  },
  "language_info": {
   "codemirror_mode": {
    "name": "ipython",
    "version": 3
   },
   "file_extension": ".py",
   "mimetype": "text/x-python",
   "name": "python",
   "nbconvert_exporter": "python",
   "pygments_lexer": "ipython3",
   "version": "3.9.13"
  },
  "orig_nbformat": 4
 },
 "nbformat": 4,
 "nbformat_minor": 2
}
