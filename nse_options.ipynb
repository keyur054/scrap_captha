{
 "cells": [
  {
   "cell_type": "code",
   "execution_count": 4,
   "metadata": {},
   "outputs": [],
   "source": [
    "import requests\n",
    "import pandas as pd"
   ]
  },
  {
   "cell_type": "code",
   "execution_count": 18,
   "metadata": {},
   "outputs": [],
   "source": [
    "class OptionChain():\n",
    "    def __init__(self, symbol='NIFTY', timeout=5) -> None:\n",
    "        self.__url = \"https://www.nseindia.com/api/option-chain-indices?symbol={}\".format(symbol)\n",
    "        self.__session = requests.sessions.Session()\n",
    "        self.__session.headers = { \"User-Agent\": \"Mozilla/5.0 (X11; Ubuntu; Linux x86_64; rv:102.0) Gecko/20100101 Firefox/102.0\", \"Accept\": \"*/*\", \"Accept-Language\": \"en-US,en;q=0.5\" }\n",
    "        self.__timeout = timeout\n",
    "        self.__session.get(\"https://www.nseindia.com/option-chain\", timeout=self.__timeout)\n",
    "    \n",
    "    def fetch_data(self, expiry_date=None, starting_strike_price=None, number_of_rows=2):\n",
    "        try:\n",
    "            data = self.__session.get(url=self.__url, timeout=self.__timeout)\n",
    "            data = data.json()\n",
    "            df = pd.json_normalize(data['records']['data'])\n",
    "            \n",
    "            if expiry_date != None:\n",
    "                df = df[(df.expiryDate == expiry_date)]\n",
    "            \n",
    "            if starting_strike_price != None:\n",
    "                df = df[(df.strikePrice >= starting_strike_price)][:number_of_rows]\n",
    "\n",
    "            # for col in df.columns:\n",
    "            #      print(col)\n",
    "            arr_colmn = ['PE.strikePrice','PE.openInterest','PE.changeinOpenInterest','PE.impliedVolatility','CE.openInterest','CE.changeinOpenInterest','CE.impliedVolatility','CE.strikePrice']\n",
    "            new_df = df[arr_colmn]\n",
    "            return new_df.head()\n",
    "        except Exception as ex:\n",
    "            print('Error: {}'.format(ex))\n",
    "            self.__session.get(\"https://www.nseindia.com/option-chain\", timeout=self.__timeout)\n"
   ]
  },
  {
   "cell_type": "code",
   "execution_count": 20,
   "metadata": {},
   "outputs": [
    {
     "name": "stdout",
     "output_type": "stream",
     "text": [
      "    PE.strikePrice  PE.openInterest  PE.changeinOpenInterest  \\\n",
      "1          12000.0           8759.0                   7396.0   \n",
      "4          13000.0           5812.0                     54.0   \n",
      "14         14000.0           3131.0                   1710.0   \n",
      "26         15000.0           2252.0                   -142.0   \n",
      "36         16000.0          12136.0                    468.0   \n",
      "\n",
      "    PE.impliedVolatility  CE.openInterest  CE.changeinOpenInterest  \\\n",
      "1                 120.03              4.0                      2.0   \n",
      "4                 102.67           8256.0                   -599.0   \n",
      "14                 84.65            190.0                     -3.0   \n",
      "26                 68.62           1679.0                    -74.0   \n",
      "36                 55.74           5168.0                   -320.0   \n",
      "\n",
      "    CE.impliedVolatility  CE.strikePrice  \n",
      "1                 196.84         12000.0  \n",
      "4                 147.88         13000.0  \n",
      "14                134.20         14000.0  \n",
      "26                 81.45         15000.0  \n",
      "36                 75.38         16000.0  \n"
     ]
    }
   ],
   "source": [
    "if __name__ == '__main__':\n",
    "    oc = OptionChain()\n",
    "    print(oc.fetch_data(expiry_date='28-Sep-2023'))"
   ]
  }
 ],
 "metadata": {
  "kernelspec": {
   "display_name": "Python 3",
   "language": "python",
   "name": "python3"
  },
  "language_info": {
   "codemirror_mode": {
    "name": "ipython",
    "version": 3
   },
   "file_extension": ".py",
   "mimetype": "text/x-python",
   "name": "python",
   "nbconvert_exporter": "python",
   "pygments_lexer": "ipython3",
   "version": "3.9.13"
  },
  "orig_nbformat": 4
 },
 "nbformat": 4,
 "nbformat_minor": 2
}
