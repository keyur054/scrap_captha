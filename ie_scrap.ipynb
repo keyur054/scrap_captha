{
 "cells": [
  {
   "cell_type": "code",
   "execution_count": 3,
   "metadata": {},
   "outputs": [
    {
     "name": "stderr",
     "output_type": "stream",
     "text": [
      "C:\\Users\\hites\\AppData\\Local\\Temp\\ipykernel_6036\\747049638.py:16: DeprecationWarning: executable_path has been deprecated, please pass in a Service object\n",
      "  driver = webdriver.Chrome(executable_path=\"C:/Users/hites/Downloads/chromedriver_win32/chromedriver.exe\")\n"
     ]
    },
    {
     "ename": "WebDriverException",
     "evalue": "Message: 'chromedriver.exe' executable needs to be in PATH. Please see https://chromedriver.chromium.org/home\n",
     "output_type": "error",
     "traceback": [
      "\u001b[1;31m---------------------------------------------------------------------------\u001b[0m",
      "\u001b[1;31mSeleniumManagerException\u001b[0m                  Traceback (most recent call last)",
      "File \u001b[1;32m~\\AppData\\Local\\Packages\\PythonSoftwareFoundation.Python.3.9_qbz5n2kfra8p0\\LocalCache\\local-packages\\Python39\\site-packages\\selenium\\webdriver\\common\\service.py:95\u001b[0m, in \u001b[0;36mService.start\u001b[1;34m(self)\u001b[0m\n\u001b[0;32m     94\u001b[0m \u001b[39mtry\u001b[39;00m:\n\u001b[1;32m---> 95\u001b[0m     path \u001b[39m=\u001b[39m SeleniumManager()\u001b[39m.\u001b[39;49mdriver_location(browser)\n\u001b[0;32m     96\u001b[0m \u001b[39mexcept\u001b[39;00m WebDriverException \u001b[39mas\u001b[39;00m new_err:\n",
      "File \u001b[1;32m~\\AppData\\Local\\Packages\\PythonSoftwareFoundation.Python.3.9_qbz5n2kfra8p0\\LocalCache\\local-packages\\Python39\\site-packages\\selenium\\webdriver\\common\\selenium_manager.py:74\u001b[0m, in \u001b[0;36mSeleniumManager.driver_location\u001b[1;34m(self, browser)\u001b[0m\n\u001b[0;32m     73\u001b[0m binary, flag, browser \u001b[39m=\u001b[39m \u001b[39mstr\u001b[39m(\u001b[39mself\u001b[39m\u001b[39m.\u001b[39mget_binary()), \u001b[39m\"\u001b[39m\u001b[39m--browser\u001b[39m\u001b[39m\"\u001b[39m, browser\n\u001b[1;32m---> 74\u001b[0m result \u001b[39m=\u001b[39m \u001b[39mself\u001b[39;49m\u001b[39m.\u001b[39;49mrun((binary, flag, browser))\n\u001b[0;32m     75\u001b[0m executable \u001b[39m=\u001b[39m result\u001b[39m.\u001b[39msplit(\u001b[39m\"\u001b[39m\u001b[39m\\t\u001b[39;00m\u001b[39m\"\u001b[39m)[\u001b[39m-\u001b[39m\u001b[39m1\u001b[39m]\u001b[39m.\u001b[39mstrip()\n",
      "File \u001b[1;32m~\\AppData\\Local\\Packages\\PythonSoftwareFoundation.Python.3.9_qbz5n2kfra8p0\\LocalCache\\local-packages\\Python39\\site-packages\\selenium\\webdriver\\common\\selenium_manager.py:93\u001b[0m, in \u001b[0;36mSeleniumManager.run\u001b[1;34m(args)\u001b[0m\n\u001b[0;32m     92\u001b[0m \u001b[39mif\u001b[39;00m completed_proc\u001b[39m.\u001b[39mreturncode:\n\u001b[1;32m---> 93\u001b[0m     \u001b[39mraise\u001b[39;00m SeleniumManagerException(\u001b[39mf\u001b[39m\u001b[39m\"\u001b[39m\u001b[39mSelenium manager failed for: \u001b[39m\u001b[39m{\u001b[39;00mcommand\u001b[39m}\u001b[39;00m\u001b[39m.\u001b[39m\u001b[39m\\n\u001b[39;00m\u001b[39m{\u001b[39;00mstdout\u001b[39m}\u001b[39;00m\u001b[39m{\u001b[39;00mstderr\u001b[39m}\u001b[39;00m\u001b[39m\"\u001b[39m)\n\u001b[0;32m     94\u001b[0m \u001b[39melse\u001b[39;00m:\n\u001b[0;32m     95\u001b[0m     \u001b[39m# selenium manager exited 0 successfully, parse the executable path from stdout.\u001b[39;00m\n",
      "\u001b[1;31mSeleniumManagerException\u001b[0m: Message: Selenium manager failed for: C:\\Users\\hites\\AppData\\Local\\Packages\\PythonSoftwareFoundation.Python.3.9_qbz5n2kfra8p0\\LocalCache\\local-packages\\Python39\\site-packages\\selenium\\webdriver\\common\\windows\\selenium-manager.exe --browser chrome.\nERROR\tWrong browser/driver version\n",
      "\nDuring handling of the above exception, another exception occurred:\n",
      "\u001b[1;31mWebDriverException\u001b[0m                        Traceback (most recent call last)",
      "\u001b[1;32md:\\Scrap_freelancer\\ie_scrap.ipynb Cell 1\u001b[0m line \u001b[0;36m1\n\u001b[0;32m     <a href='vscode-notebook-cell:/d%3A/Scrap_freelancer/ie_scrap.ipynb#W0sZmlsZQ%3D%3D?line=12'>13</a>\u001b[0m base_url \u001b[39m=\u001b[39m \u001b[39m\"\u001b[39m\u001b[39mhttps://old.icegate.gov.in/EnqMod/searchIecCodeAction\u001b[39m\u001b[39m\"\u001b[39m\n\u001b[0;32m     <a href='vscode-notebook-cell:/d%3A/Scrap_freelancer/ie_scrap.ipynb#W0sZmlsZQ%3D%3D?line=14'>15</a>\u001b[0m \u001b[39m# Initialize the WebDriver\u001b[39;00m\n\u001b[1;32m---> <a href='vscode-notebook-cell:/d%3A/Scrap_freelancer/ie_scrap.ipynb#W0sZmlsZQ%3D%3D?line=15'>16</a>\u001b[0m driver \u001b[39m=\u001b[39m webdriver\u001b[39m.\u001b[39;49mChrome(executable_path\u001b[39m=\u001b[39;49m\u001b[39m\"\u001b[39;49m\u001b[39mC:/Users/hites/Downloads/chromedriver_win32/chromedriver.exe\u001b[39;49m\u001b[39m\"\u001b[39;49m)\n\u001b[0;32m     <a href='vscode-notebook-cell:/d%3A/Scrap_freelancer/ie_scrap.ipynb#W0sZmlsZQ%3D%3D?line=16'>17</a>\u001b[0m driver\u001b[39m.\u001b[39mmaximize_window()\n\u001b[0;32m     <a href='vscode-notebook-cell:/d%3A/Scrap_freelancer/ie_scrap.ipynb#W0sZmlsZQ%3D%3D?line=17'>18</a>\u001b[0m driver\u001b[39m.\u001b[39mimplicitly_wait(\u001b[39m10\u001b[39m)\n",
      "File \u001b[1;32m~\\AppData\\Local\\Packages\\PythonSoftwareFoundation.Python.3.9_qbz5n2kfra8p0\\LocalCache\\local-packages\\Python39\\site-packages\\selenium\\webdriver\\chrome\\webdriver.py:80\u001b[0m, in \u001b[0;36mWebDriver.__init__\u001b[1;34m(self, executable_path, port, options, service_args, desired_capabilities, service_log_path, chrome_options, service, keep_alive)\u001b[0m\n\u001b[0;32m     77\u001b[0m \u001b[39mif\u001b[39;00m \u001b[39mnot\u001b[39;00m service:\n\u001b[0;32m     78\u001b[0m     service \u001b[39m=\u001b[39m Service(executable_path, port, service_args, service_log_path)\n\u001b[1;32m---> 80\u001b[0m \u001b[39msuper\u001b[39;49m()\u001b[39m.\u001b[39;49m\u001b[39m__init__\u001b[39;49m(\n\u001b[0;32m     81\u001b[0m     DesiredCapabilities\u001b[39m.\u001b[39;49mCHROME[\u001b[39m\"\u001b[39;49m\u001b[39mbrowserName\u001b[39;49m\u001b[39m\"\u001b[39;49m],\n\u001b[0;32m     82\u001b[0m     \u001b[39m\"\u001b[39;49m\u001b[39mgoog\u001b[39;49m\u001b[39m\"\u001b[39;49m,\n\u001b[0;32m     83\u001b[0m     port,\n\u001b[0;32m     84\u001b[0m     options,\n\u001b[0;32m     85\u001b[0m     service_args,\n\u001b[0;32m     86\u001b[0m     desired_capabilities,\n\u001b[0;32m     87\u001b[0m     service_log_path,\n\u001b[0;32m     88\u001b[0m     service,\n\u001b[0;32m     89\u001b[0m     keep_alive,\n\u001b[0;32m     90\u001b[0m )\n",
      "File \u001b[1;32m~\\AppData\\Local\\Packages\\PythonSoftwareFoundation.Python.3.9_qbz5n2kfra8p0\\LocalCache\\local-packages\\Python39\\site-packages\\selenium\\webdriver\\chromium\\webdriver.py:101\u001b[0m, in \u001b[0;36mChromiumDriver.__init__\u001b[1;34m(self, browser_name, vendor_prefix, port, options, service_args, desired_capabilities, service_log_path, service, keep_alive)\u001b[0m\n\u001b[0;32m     98\u001b[0m     \u001b[39mraise\u001b[39;00m \u001b[39mAttributeError\u001b[39;00m(\u001b[39m\"\u001b[39m\u001b[39mservice cannot be None\u001b[39m\u001b[39m\"\u001b[39m)\n\u001b[0;32m    100\u001b[0m \u001b[39mself\u001b[39m\u001b[39m.\u001b[39mservice \u001b[39m=\u001b[39m service\n\u001b[1;32m--> 101\u001b[0m \u001b[39mself\u001b[39;49m\u001b[39m.\u001b[39;49mservice\u001b[39m.\u001b[39;49mstart()\n\u001b[0;32m    103\u001b[0m \u001b[39mtry\u001b[39;00m:\n\u001b[0;32m    104\u001b[0m     \u001b[39msuper\u001b[39m()\u001b[39m.\u001b[39m\u001b[39m__init__\u001b[39m(\n\u001b[0;32m    105\u001b[0m         command_executor\u001b[39m=\u001b[39mChromiumRemoteConnection(\n\u001b[0;32m    106\u001b[0m             remote_server_addr\u001b[39m=\u001b[39m\u001b[39mself\u001b[39m\u001b[39m.\u001b[39mservice\u001b[39m.\u001b[39mservice_url,\n\u001b[1;32m   (...)\u001b[0m\n\u001b[0;32m    112\u001b[0m         options\u001b[39m=\u001b[39moptions,\n\u001b[0;32m    113\u001b[0m     )\n",
      "File \u001b[1;32m~\\AppData\\Local\\Packages\\PythonSoftwareFoundation.Python.3.9_qbz5n2kfra8p0\\LocalCache\\local-packages\\Python39\\site-packages\\selenium\\webdriver\\common\\service.py:98\u001b[0m, in \u001b[0;36mService.start\u001b[1;34m(self)\u001b[0m\n\u001b[0;32m     96\u001b[0m         \u001b[39mexcept\u001b[39;00m WebDriverException \u001b[39mas\u001b[39;00m new_err:\n\u001b[0;32m     97\u001b[0m             logger\u001b[39m.\u001b[39mdebug(\u001b[39m\"\u001b[39m\u001b[39mUnable to obtain driver using Selenium Manager: \u001b[39m\u001b[39m\"\u001b[39m \u001b[39m+\u001b[39m new_err\u001b[39m.\u001b[39mmsg)\n\u001b[1;32m---> 98\u001b[0m             \u001b[39mraise\u001b[39;00m err\n\u001b[0;32m    100\u001b[0m         \u001b[39mself\u001b[39m\u001b[39m.\u001b[39m_start_process(path)\n\u001b[0;32m    102\u001b[0m count \u001b[39m=\u001b[39m \u001b[39m0\u001b[39m\n",
      "File \u001b[1;32m~\\AppData\\Local\\Packages\\PythonSoftwareFoundation.Python.3.9_qbz5n2kfra8p0\\LocalCache\\local-packages\\Python39\\site-packages\\selenium\\webdriver\\common\\service.py:88\u001b[0m, in \u001b[0;36mService.start\u001b[1;34m(self)\u001b[0m\n\u001b[0;32m     81\u001b[0m \u001b[39m\u001b[39m\u001b[39m\"\"\"Starts the Service.\u001b[39;00m\n\u001b[0;32m     82\u001b[0m \n\u001b[0;32m     83\u001b[0m \u001b[39m:Exceptions:\u001b[39;00m\n\u001b[0;32m     84\u001b[0m \u001b[39m - WebDriverException : Raised either when it can't start the service\u001b[39;00m\n\u001b[0;32m     85\u001b[0m \u001b[39m   or when it can't connect to the service\u001b[39;00m\n\u001b[0;32m     86\u001b[0m \u001b[39m\"\"\"\u001b[39;00m\n\u001b[0;32m     87\u001b[0m \u001b[39mtry\u001b[39;00m:\n\u001b[1;32m---> 88\u001b[0m     \u001b[39mself\u001b[39;49m\u001b[39m.\u001b[39;49m_start_process(\u001b[39mself\u001b[39;49m\u001b[39m.\u001b[39;49mpath)\n\u001b[0;32m     89\u001b[0m \u001b[39mexcept\u001b[39;00m WebDriverException \u001b[39mas\u001b[39;00m err:\n\u001b[0;32m     90\u001b[0m     \u001b[39mif\u001b[39;00m \u001b[39m\"\u001b[39m\u001b[39mexecutable needs to be in PATH\u001b[39m\u001b[39m\"\u001b[39m \u001b[39min\u001b[39;00m err\u001b[39m.\u001b[39mmsg:\n",
      "File \u001b[1;32m~\\AppData\\Local\\Packages\\PythonSoftwareFoundation.Python.3.9_qbz5n2kfra8p0\\LocalCache\\local-packages\\Python39\\site-packages\\selenium\\webdriver\\common\\service.py:209\u001b[0m, in \u001b[0;36mService._start_process\u001b[1;34m(self, path)\u001b[0m\n\u001b[0;32m    207\u001b[0m \u001b[39mexcept\u001b[39;00m \u001b[39mOSError\u001b[39;00m \u001b[39mas\u001b[39;00m err:\n\u001b[0;32m    208\u001b[0m     \u001b[39mif\u001b[39;00m err\u001b[39m.\u001b[39merrno \u001b[39m==\u001b[39m errno\u001b[39m.\u001b[39mENOENT:\n\u001b[1;32m--> 209\u001b[0m         \u001b[39mraise\u001b[39;00m WebDriverException(\n\u001b[0;32m    210\u001b[0m             \u001b[39mf\u001b[39m\u001b[39m\"\u001b[39m\u001b[39m'\u001b[39m\u001b[39m{\u001b[39;00mos\u001b[39m.\u001b[39mpath\u001b[39m.\u001b[39mbasename(\u001b[39mself\u001b[39m\u001b[39m.\u001b[39mpath)\u001b[39m}\u001b[39;00m\u001b[39m'\u001b[39m\u001b[39m executable needs to be in PATH. \u001b[39m\u001b[39m{\u001b[39;00m\u001b[39mself\u001b[39m\u001b[39m.\u001b[39mstart_error_message\u001b[39m}\u001b[39;00m\u001b[39m\"\u001b[39m\n\u001b[0;32m    211\u001b[0m         )\n\u001b[0;32m    212\u001b[0m     \u001b[39melif\u001b[39;00m err\u001b[39m.\u001b[39merrno \u001b[39m==\u001b[39m errno\u001b[39m.\u001b[39mEACCES:\n\u001b[0;32m    213\u001b[0m         \u001b[39mraise\u001b[39;00m WebDriverException(\n\u001b[0;32m    214\u001b[0m             \u001b[39mf\u001b[39m\u001b[39m\"\u001b[39m\u001b[39m'\u001b[39m\u001b[39m{\u001b[39;00mos\u001b[39m.\u001b[39mpath\u001b[39m.\u001b[39mbasename(\u001b[39mself\u001b[39m\u001b[39m.\u001b[39mpath)\u001b[39m}\u001b[39;00m\u001b[39m'\u001b[39m\u001b[39m executable may have wrong permissions. \u001b[39m\u001b[39m{\u001b[39;00m\u001b[39mself\u001b[39m\u001b[39m.\u001b[39mstart_error_message\u001b[39m}\u001b[39;00m\u001b[39m\"\u001b[39m\n\u001b[0;32m    215\u001b[0m         )\n",
      "\u001b[1;31mWebDriverException\u001b[0m: Message: 'chromedriver.exe' executable needs to be in PATH. Please see https://chromedriver.chromium.org/home\n"
     ]
    }
   ],
   "source": [
    "from selenium import webdriver\n",
    "import openpyxl\n",
    "import pytesseract\n",
    "from PIL import Image\n",
    "import time\n",
    "import csv\n",
    "from bs4 import BeautifulSoup\n",
    "\n",
    "# Set the Tesseract OCR executable path\n",
    "pytesseract.pytesseract.tesseract_cmd = 'C:/Program Files/Tesseract-OCR/tesseract.exe'\n",
    "\n",
    "# Define the base URL\n",
    "base_url = \"https://old.icegate.gov.in/EnqMod/searchIecCodeAction\"\n",
    "\n",
    "# Initialize the WebDriver\n",
    "driver = webdriver.Chrome(executable_path=\"C:/Users/hites/Downloads/chromedriver_win32/chromedriver.exe\")\n",
    "driver.maximize_window()\n",
    "driver.implicitly_wait(10)\n",
    "\n",
    "# Load the base URL\n",
    "driver.get(base_url)\n",
    "\n",
    "# Initialize a list to store IE Codes\n",
    "ie_code = []\n",
    "\n",
    "# Function to read IE Codes from an Excel file\n",
    "def read_csv():\n",
    "    wb_obj = openpyxl.load_workbook('test.xlsx')\n",
    "    ws = wb_obj.active\n",
    "\n",
    "    for index, col in enumerate(ws['A']):\n",
    "        if index != 0:\n",
    "            ie_code.append(col.value)\n",
    "\n",
    "# Class for web scraping\n",
    "class Python_Scrap:\n",
    "    def __init__(self):\n",
    "        self.input_Ie = driver.find_element(\"id\", 'searchIECode')\n",
    "        self.input_captcha = driver.find_element(\"id\", 'captchaResp')\n",
    "        self.captcha = driver.find_element('xpath', \"//dt[@id='login-box-name']//img\")\n",
    "        self.column_list = ['IE Code', 'Name', 'Address', 'IEC Status', 'PAN']\n",
    "\n",
    "    def input_element(self, ie_number):\n",
    "        self.input_Ie.send_keys(ie_number)\n",
    "        self.captcha.screenshot('1.png')\n",
    "        image_url = Image.open('1.png')\n",
    "        text = pytesseract.image_to_string(image_url).strip()\n",
    "        self.input_captcha.send_keys(text)\n",
    "        time.sleep(3)\n",
    "        driver.find_element_by_xpath(\"//*[contains(text(), 'IE Code@ICEGATE')]\").click()\n",
    "        table_to_extract = driver.find_elements('xpath', \"//*[contains(text(), 'IEC Details')]\")\n",
    "\n",
    "        if not table_to_extract:\n",
    "            time.sleep(2)\n",
    "            self.input_element(ie_number)\n",
    "        else:\n",
    "            time.sleep(2)\n",
    "            soup = BeautifulSoup(driver.page_source, 'html.parser')\n",
    "            table = soup.find('table', id=\"pagetable\")\n",
    "            if table:\n",
    "                new_row = []\n",
    "\n",
    "                for row in table.find_all('tr'):\n",
    "                    for column in row.find_all('td'):\n",
    "                        curr_column = column.get_text().strip()\n",
    "                        if curr_column and curr_column not in self.column_list:\n",
    "                            new_row.append(curr_column)\n",
    "\n",
    "                with open(\"data.csv\", 'a', newline='') as csvfile:\n",
    "                    wr = csv.writer(csvfile)\n",
    "                    wr.writerow(new_row)\n",
    "\n",
    "                driver.back()\n",
    "                time.sleep(2)\n",
    "\n",
    "# Read IE Codes from Excel\n",
    "read_csv()\n",
    "\n",
    "# Iterate through IE Codes and scrape data\n",
    "if __name__ == '__main__':\n",
    "    for i in ie_code:\n",
    "        ps = Python_Scrap()\n",
    "        ps.input_element(i)\n",
    "\n",
    "# Close the WebDriver\n",
    "driver.close()"
   ]
  }
 ],
 "metadata": {
  "kernelspec": {
   "display_name": "Python 3",
   "language": "python",
   "name": "python3"
  },
  "language_info": {
   "codemirror_mode": {
    "name": "ipython",
    "version": 3
   },
   "file_extension": ".py",
   "mimetype": "text/x-python",
   "name": "python",
   "nbconvert_exporter": "python",
   "pygments_lexer": "ipython3",
   "version": "3.9.13"
  },
  "orig_nbformat": 4,
  "vscode": {
   "interpreter": {
    "hash": "e78b1f40ff37e8216f9e44df6d5da79a894723b78cbaf36472e8eefe61e1a851"
   }
  }
 },
 "nbformat": 4,
 "nbformat_minor": 2
}
